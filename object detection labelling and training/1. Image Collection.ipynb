{
 "cells": [
  {
   "cell_type": "markdown",
   "metadata": {},
   "source": [
    "# 1. Import Dependencies"
   ]
  },
  {
   "cell_type": "code",
   "execution_count": 1,
   "metadata": {},
   "outputs": [
    {
     "name": "stdout",
     "output_type": "stream",
     "text": [
      "Requirement already satisfied: opencv-python in c:\\users\\vaio\\anaconda3\\lib\\site-packages (4.5.1.48)\n",
      "Requirement already satisfied: numpy>=1.14.5 in c:\\users\\vaio\\anaconda3\\lib\\site-packages (from opencv-python) (1.18.1)\n"
     ]
    }
   ],
   "source": [
    "!pip install opencv-python"
   ]
  },
  {
   "cell_type": "code",
   "execution_count": 3,
   "metadata": {},
   "outputs": [
    {
     "data": {
      "text/plain": [
       "['C:\\\\Users\\\\VAIO\\\\Desktop\\\\tensorflowOD\\\\TFODCourse',\n",
       " 'C:\\\\Program Files\\\\WindowsApps\\\\PythonSoftwareFoundation.Python.3.8_3.8.2800.0_x64__qbz5n2kfra8p0\\\\python38.zip',\n",
       " 'C:\\\\Program Files\\\\WindowsApps\\\\PythonSoftwareFoundation.Python.3.8_3.8.2800.0_x64__qbz5n2kfra8p0\\\\DLLs',\n",
       " 'C:\\\\Program Files\\\\WindowsApps\\\\PythonSoftwareFoundation.Python.3.8_3.8.2800.0_x64__qbz5n2kfra8p0\\\\lib',\n",
       " 'C:\\\\Users\\\\VAIO\\\\AppData\\\\Local\\\\Microsoft\\\\WindowsApps\\\\PythonSoftwareFoundation.Python.3.8_qbz5n2kfra8p0',\n",
       " 'C:\\\\Users\\\\VAIO\\\\Desktop\\\\tensorflowOD\\\\TFODCourse\\\\tfod',\n",
       " '',\n",
       " 'C:\\\\Users\\\\VAIO\\\\Desktop\\\\tensorflowOD\\\\TFODCourse\\\\tfod\\\\lib\\\\site-packages',\n",
       " 'C:\\\\Users\\\\VAIO\\\\Desktop\\\\tensorflowOD\\\\TFODCourse\\\\tfod\\\\lib\\\\site-packages\\\\object_detection-0.1-py3.8.egg',\n",
       " 'C:\\\\Users\\\\VAIO\\\\Desktop\\\\tensorflowOD\\\\TFODCourse\\\\tfod\\\\lib\\\\site-packages\\\\tf_models_official-2.6.0-py3.8.egg',\n",
       " 'C:\\\\Users\\\\VAIO\\\\Desktop\\\\tensorflowOD\\\\TFODCourse\\\\tfod\\\\lib\\\\site-packages\\\\pandas-1.3.2-py3.8-win-amd64.egg',\n",
       " 'C:\\\\Users\\\\VAIO\\\\Desktop\\\\tensorflowOD\\\\TFODCourse\\\\tfod\\\\lib\\\\site-packages\\\\scipy-1.7.1-py3.8-win-amd64.egg',\n",
       " 'C:\\\\Users\\\\VAIO\\\\Desktop\\\\tensorflowOD\\\\TFODCourse\\\\tfod\\\\lib\\\\site-packages\\\\lvis-0.5.3-py3.8.egg',\n",
       " 'c:\\\\users\\\\vaio\\\\desktop\\\\tensorflowod\\\\tfodcourse\\\\tensorflow\\\\models\\\\research\\\\slim',\n",
       " 'C:\\\\Users\\\\VAIO\\\\Desktop\\\\tensorflowOD\\\\TFODCourse\\\\tfod\\\\lib\\\\site-packages\\\\win32',\n",
       " 'C:\\\\Users\\\\VAIO\\\\Desktop\\\\tensorflowOD\\\\TFODCourse\\\\tfod\\\\lib\\\\site-packages\\\\win32\\\\lib',\n",
       " 'C:\\\\Users\\\\VAIO\\\\Desktop\\\\tensorflowOD\\\\TFODCourse\\\\tfod\\\\lib\\\\site-packages\\\\Pythonwin',\n",
       " 'C:\\\\Users\\\\VAIO\\\\Desktop\\\\tensorflowOD\\\\TFODCourse\\\\tfod\\\\lib\\\\site-packages\\\\IPython\\\\extensions',\n",
       " 'C:\\\\Users\\\\VAIO\\\\.ipython']"
      ]
     },
     "execution_count": 3,
     "metadata": {},
     "output_type": "execute_result"
    }
   ],
   "source": [
    "import os\n",
    "os.sys.path"
   ]
  },
  {
   "cell_type": "code",
   "execution_count": 3,
   "metadata": {},
   "outputs": [],
   "source": [
    "# Import opencv\n",
    "import cv2\n",
    "\n",
    "# Import uuid\n",
    "import uuid\n",
    "\n",
    "# Import Operating System\n",
    "import os\n",
    "\n",
    "# Import time\n",
    "import time"
   ]
  },
  {
   "cell_type": "markdown",
   "metadata": {},
   "source": [
    "# 2. Define Images to Collect"
   ]
  },
  {
   "cell_type": "code",
   "execution_count": 6,
   "metadata": {},
   "outputs": [],
   "source": [
    "labels = ['thumbsup', 'thumbsdown', 'thankyou', 'livelong']\n",
    "number_imgs = 5"
   ]
  },
  {
   "cell_type": "markdown",
   "metadata": {},
   "source": [
    "# 3. Setup Folders "
   ]
  },
  {
   "cell_type": "code",
   "execution_count": 7,
   "metadata": {},
   "outputs": [],
   "source": [
    "IMAGES_PATH = os.path.join('Tensorflow', 'workspace', 'images', 'collectedimages')"
   ]
  },
  {
   "cell_type": "code",
   "execution_count": 8,
   "metadata": {},
   "outputs": [],
   "source": [
    "if not os.path.exists(IMAGES_PATH):\n",
    "    if os.name == 'posix':\n",
    "        !mkdir -p {IMAGES_PATH}\n",
    "    if os.name == 'nt':\n",
    "         !mkdir {IMAGES_PATH}\n",
    "for label in labels:\n",
    "    path = os.path.join(IMAGES_PATH, label)\n",
    "    if not os.path.exists(path):\n",
    "        !mkdir {path}"
   ]
  },
  {
   "cell_type": "markdown",
   "metadata": {},
   "source": [
    "# 4. Capture Images"
   ]
  },
  {
   "cell_type": "code",
   "execution_count": 6,
   "metadata": {},
   "outputs": [
    {
     "name": "stdout",
     "output_type": "stream",
     "text": [
      "Collecting images for thumbsup\n",
      "Collecting image 0\n",
      "Collecting image 1\n",
      "Collecting image 2\n",
      "Collecting image 3\n",
      "Collecting image 4\n",
      "Collecting images for thumbsdown\n",
      "Collecting image 0\n",
      "Collecting image 1\n",
      "Collecting image 2\n",
      "Collecting image 3\n",
      "Collecting image 4\n",
      "Collecting images for thankyou\n",
      "Collecting image 0\n",
      "Collecting image 1\n",
      "Collecting image 2\n",
      "Collecting image 3\n",
      "Collecting image 4\n",
      "Collecting images for livelong\n",
      "Collecting image 0\n",
      "Collecting image 1\n",
      "Collecting image 2\n",
      "Collecting image 3\n",
      "Collecting image 4\n"
     ]
    }
   ],
   "source": [
    "for label in labels:\n",
    "    cap = cv2.VideoCapture(0)\n",
    "    print('Collecting images for {}'.format(label))\n",
    "    time.sleep(2)\n",
    "    for imgnum in range(number_imgs):\n",
    "        print('Collecting image {}'.format(imgnum))\n",
    "        ret, frame = cap.read()\n",
    "        imgname = os.path.join(IMAGES_PATH,label,label+'.'+'{}.jpg'.format(str(uuid.uuid1())))\n",
    "        cv2.imwrite(imgname, frame)\n",
    "        cv2.imshow('frame', frame)\n",
    "        time.sleep(2)\n",
    "\n",
    "        if cv2.waitKey(1) & 0xFF == ord('q'):\n",
    "            break\n",
    "cap.release()\n",
    "cv2.destroyAllWindows()"
   ]
  },
  {
   "cell_type": "markdown",
   "metadata": {},
   "source": [
    "# 5. Image Labelling"
   ]
  },
  {
   "cell_type": "code",
   "execution_count": 9,
   "metadata": {},
   "outputs": [
    {
     "name": "stdout",
     "output_type": "stream",
     "text": [
      "Requirement already up-to-date: pyqt5 in c:\\users\\vaio\\anaconda3\\lib\\site-packages (5.15.4)\n",
      "Requirement already up-to-date: lxml in c:\\users\\vaio\\anaconda3\\lib\\site-packages (4.6.3)\n",
      "Requirement already satisfied, skipping upgrade: PyQt5-sip<13,>=12.8 in c:\\users\\vaio\\anaconda3\\lib\\site-packages (from pyqt5) (12.9.0)\n",
      "Requirement already satisfied, skipping upgrade: PyQt5-Qt5>=5.15 in c:\\users\\vaio\\anaconda3\\lib\\site-packages (from pyqt5) (5.15.2)\n"
     ]
    }
   ],
   "source": [
    "!pip install --upgrade pyqt5 lxml"
   ]
  },
  {
   "cell_type": "code",
   "execution_count": 10,
   "metadata": {},
   "outputs": [],
   "source": [
    "LABELIMG_PATH = os.path.join('Tensorflow', 'labelimg')"
   ]
  },
  {
   "cell_type": "code",
   "execution_count": 11,
   "metadata": {},
   "outputs": [],
   "source": [
    "if not os.path.exists(LABELIMG_PATH):\n",
    "    !mkdir {LABELIMG_PATH}\n",
    "    !git clone https://github.com/tzutalin/labelImg {LABELIMG_PATH}"
   ]
  },
  {
   "cell_type": "code",
   "execution_count": 12,
   "metadata": {},
   "outputs": [],
   "source": [
    "if os.name == 'posix':\n",
    "    !cd {LABELIMG_PATH} && make qt5py3\n",
    "if os.name =='nt':\n",
    "    !cd {LABELIMG_PATH} && pyrcc5 -o libs/resources.py resources.qrc"
   ]
  },
  {
   "cell_type": "code",
   "execution_count": 13,
   "metadata": {},
   "outputs": [
    {
     "name": "stdout",
     "output_type": "stream",
     "text": [
      "Cancel creation.\n",
      "Cancel creation.\n",
      "Image:C:\\Users\\VAIO\\Desktop\\tensorflowOD\\TFODCourse\\Tensorflow\\workspace\\images\\collectedimages\\livelong\\livelong.6b9e10d7-f211-11eb-a6a6-3c77e6e0e594.jpg -> Annotation:C:/Users/VAIO/Desktop/tensorflowOD/TFODCourse/Tensorflow/workspace/images/collectedimages/livelong/livelong.6b9e10d7-f211-11eb-a6a6-3c77e6e0e594.xml\n",
      "Image:C:\\Users\\VAIO\\Desktop\\tensorflowOD\\TFODCourse\\Tensorflow\\workspace\\images\\collectedimages\\livelong\\livelong.6cd237b1-f211-11eb-a1ea-3c77e6e0e594.jpg -> Annotation:C:/Users/VAIO/Desktop/tensorflowOD/TFODCourse/Tensorflow/workspace/images/collectedimages/livelong/livelong.6cd237b1-f211-11eb-a1ea-3c77e6e0e594.xml\n",
      "Image:C:\\Users\\VAIO\\Desktop\\tensorflowOD\\TFODCourse\\Tensorflow\\workspace\\images\\collectedimages\\livelong\\livelong.6e0716cd-f211-11eb-b36a-3c77e6e0e594.jpg -> Annotation:C:/Users/VAIO/Desktop/tensorflowOD/TFODCourse/Tensorflow/workspace/images/collectedimages/livelong/livelong.6e0716cd-f211-11eb-b36a-3c77e6e0e594.xml\n",
      "Image:C:\\Users\\VAIO\\Desktop\\tensorflowOD\\TFODCourse\\Tensorflow\\workspace\\images\\collectedimages\\livelong\\livelong.6f3aa8a7-f211-11eb-8204-3c77e6e0e594.jpg -> Annotation:C:/Users/VAIO/Desktop/tensorflowOD/TFODCourse/Tensorflow/workspace/images/collectedimages/livelong/livelong.6f3aa8a7-f211-11eb-8204-3c77e6e0e594.xml\n",
      "Image:C:\\Users\\VAIO\\Desktop\\tensorflowOD\\TFODCourse\\Tensorflow\\workspace\\images\\collectedimages\\livelong\\livelong.706e1ca6-f211-11eb-9278-3c77e6e0e594.jpg -> Annotation:C:/Users/VAIO/Desktop/tensorflowOD/TFODCourse/Tensorflow/workspace/images/collectedimages/livelong/livelong.706e1ca6-f211-11eb-9278-3c77e6e0e594.xml\n",
      "Image:C:\\Users\\VAIO\\Desktop\\tensorflowOD\\TFODCourse\\Tensorflow\\workspace\\images\\collectedimages\\thankyou\\thankyou.6a1f5cc8-f210-11eb-ae43-3c77e6e0e594.jpg -> Annotation:C:/Users/VAIO/Desktop/tensorflowOD/TFODCourse/Tensorflow/workspace/images/collectedimages/thankyou/thankyou.6a1f5cc8-f210-11eb-ae43-3c77e6e0e594.xml\n",
      "Cancel creation.\n",
      "Image:C:\\Users\\VAIO\\Desktop\\tensorflowOD\\TFODCourse\\Tensorflow\\workspace\\images\\collectedimages\\thankyou\\thankyou.6b539cdb-f210-11eb-aa16-3c77e6e0e594.jpg -> Annotation:C:/Users/VAIO/Desktop/tensorflowOD/TFODCourse/Tensorflow/workspace/images/collectedimages/thankyou/thankyou.6b539cdb-f210-11eb-aa16-3c77e6e0e594.xml\n",
      "Image:C:\\Users\\VAIO\\Desktop\\tensorflowOD\\TFODCourse\\Tensorflow\\workspace\\images\\collectedimages\\thankyou\\thankyou.6c87c526-f210-11eb-8dd9-3c77e6e0e594.jpg -> Annotation:C:/Users/VAIO/Desktop/tensorflowOD/TFODCourse/Tensorflow/workspace/images/collectedimages/thankyou/thankyou.6c87c526-f210-11eb-8dd9-3c77e6e0e594.xml\n",
      "Image:C:\\Users\\VAIO\\Desktop\\tensorflowOD\\TFODCourse\\Tensorflow\\workspace\\images\\collectedimages\\thankyou\\thankyou.6dbd00e2-f210-11eb-bccc-3c77e6e0e594.jpg -> Annotation:C:/Users/VAIO/Desktop/tensorflowOD/TFODCourse/Tensorflow/workspace/images/collectedimages/thankyou/thankyou.6dbd00e2-f210-11eb-bccc-3c77e6e0e594.xml\n",
      "Image:C:\\Users\\VAIO\\Desktop\\tensorflowOD\\TFODCourse\\Tensorflow\\workspace\\images\\collectedimages\\thankyou\\thankyou.68e89fd5-f210-11eb-8e82-3c77e6e0e594.jpg -> Annotation:C:/Users/VAIO/Desktop/tensorflowOD/TFODCourse/Tensorflow/workspace/images/collectedimages/thankyou/thankyou.68e89fd5-f210-11eb-8e82-3c77e6e0e594.xml\n",
      "Image:C:\\Users\\VAIO\\Desktop\\tensorflowOD\\TFODCourse\\Tensorflow\\workspace\\images\\collectedimages\\thumbsdown\\thumbsdown.5afc87a6-f211-11eb-ba21-3c77e6e0e594.jpg -> Annotation:C:/Users/VAIO/Desktop/tensorflowOD/TFODCourse/Tensorflow/workspace/images/collectedimages/thumbsdown/thumbsdown.5afc87a6-f211-11eb-ba21-3c77e6e0e594.xml\n",
      "Image:C:\\Users\\VAIO\\Desktop\\tensorflowOD\\TFODCourse\\Tensorflow\\workspace\\images\\collectedimages\\thumbsdown\\thumbsdown.5c2facfe-f211-11eb-816a-3c77e6e0e594.jpg -> Annotation:C:/Users/VAIO/Desktop/tensorflowOD/TFODCourse/Tensorflow/workspace/images/collectedimages/thumbsdown/thumbsdown.5c2facfe-f211-11eb-816a-3c77e6e0e594.xml\n",
      "Image:C:\\Users\\VAIO\\Desktop\\tensorflowOD\\TFODCourse\\Tensorflow\\workspace\\images\\collectedimages\\thumbsdown\\thumbsdown.5d636ad3-f211-11eb-a07b-3c77e6e0e594.jpg -> Annotation:C:/Users/VAIO/Desktop/tensorflowOD/TFODCourse/Tensorflow/workspace/images/collectedimages/thumbsdown/thumbsdown.5d636ad3-f211-11eb-a07b-3c77e6e0e594.xml\n",
      "Image:C:\\Users\\VAIO\\Desktop\\tensorflowOD\\TFODCourse\\Tensorflow\\workspace\\images\\collectedimages\\thumbsdown\\thumbsdown.5e9863ad-f211-11eb-b2d1-3c77e6e0e594.jpg -> Annotation:C:/Users/VAIO/Desktop/tensorflowOD/TFODCourse/Tensorflow/workspace/images/collectedimages/thumbsdown/thumbsdown.5e9863ad-f211-11eb-b2d1-3c77e6e0e594.xml\n",
      "Image:C:\\Users\\VAIO\\Desktop\\tensorflowOD\\TFODCourse\\Tensorflow\\workspace\\images\\collectedimages\\thumbsdown\\thumbsdown.59c7e1d3-f211-11eb-9925-3c77e6e0e594.jpg -> Annotation:C:/Users/VAIO/Desktop/tensorflowOD/TFODCourse/Tensorflow/workspace/images/collectedimages/thumbsdown/thumbsdown.59c7e1d3-f211-11eb-9925-3c77e6e0e594.xml\n",
      "Image:C:\\Users\\VAIO\\Desktop\\tensorflowOD\\TFODCourse\\Tensorflow\\workspace\\images\\collectedimages\\thumbsup\\thumbsup.52227e92-f211-11eb-889c-3c77e6e0e594.jpg -> Annotation:C:/Users/VAIO/Desktop/tensorflowOD/TFODCourse/Tensorflow/workspace/images/collectedimages/thumbsup/thumbsup.52227e92-f211-11eb-889c-3c77e6e0e594.xml\n",
      "Image:C:\\Users\\VAIO\\Desktop\\tensorflowOD\\TFODCourse\\Tensorflow\\workspace\\images\\collectedimages\\thumbsup\\thumbsup.55bccf68-f211-11eb-8063-3c77e6e0e594.jpg -> Annotation:C:/Users/VAIO/Desktop/tensorflowOD/TFODCourse/Tensorflow/workspace/images/collectedimages/thumbsup/thumbsup.55bccf68-f211-11eb-8063-3c77e6e0e594.xml\n",
      "Image:C:\\Users\\VAIO\\Desktop\\tensorflowOD\\TFODCourse\\Tensorflow\\workspace\\images\\collectedimages\\thumbsup\\thumbsup.53562cb4-f211-11eb-b3fd-3c77e6e0e594.jpg -> Annotation:C:/Users/VAIO/Desktop/tensorflowOD/TFODCourse/Tensorflow/workspace/images/collectedimages/thumbsup/thumbsup.53562cb4-f211-11eb-b3fd-3c77e6e0e594.xml\n",
      "ESC press\n",
      "Cancel creation.\n",
      "Image:C:\\Users\\VAIO\\Desktop\\tensorflowOD\\TFODCourse\\Tensorflow\\workspace\\images\\collectedimages\\thumbsup\\thumbsup.54897827-f211-11eb-a396-3c77e6e0e594 - Copy.jpg -> Annotation:C:/Users/VAIO/Desktop/tensorflowOD/TFODCourse/Tensorflow/workspace/images/collectedimages/thumbsup/thumbsup.54897827-f211-11eb-a396-3c77e6e0e594 - Copy.xml\n",
      "Image:C:\\Users\\VAIO\\Desktop\\tensorflowOD\\TFODCourse\\Tensorflow\\workspace\\images\\collectedimages\\thumbsup\\thumbsup.54897827-f211-11eb-a396-3c77e6e0e594.jpg -> Annotation:C:/Users/VAIO/Desktop/tensorflowOD/TFODCourse/Tensorflow/workspace/images/collectedimages/thumbsup/thumbsup.54897827-f211-11eb-a396-3c77e6e0e594.xml\n"
     ]
    }
   ],
   "source": [
    "!cd {LABELIMG_PATH} && python labelImg.py"
   ]
  },
  {
   "cell_type": "markdown",
   "metadata": {},
   "source": [
    "# 6. Move them into a Training and Testing Partition"
   ]
  },
  {
   "cell_type": "markdown",
   "metadata": {},
   "source": [
    "# OPTIONAL - 7. Compress them for Colab Training"
   ]
  },
  {
   "cell_type": "code",
   "execution_count": 4,
   "metadata": {},
   "outputs": [],
   "source": [
    "TRAIN_PATH = os.path.join('Tensorflow', 'workspace', 'images', 'train')\n",
    "TEST_PATH = os.path.join('Tensorflow', 'workspace', 'images', 'test')\n",
    "ARCHIVE_PATH = os.path.join('Tensorflow', 'workspace', 'images', 'archive.tar.gz')"
   ]
  },
  {
   "cell_type": "code",
   "execution_count": 5,
   "metadata": {},
   "outputs": [],
   "source": [
    "!tar -czf {ARCHIVE_PATH} {TRAIN_PATH} {TEST_PATH}"
   ]
  },
  {
   "cell_type": "code",
   "execution_count": null,
   "metadata": {},
   "outputs": [],
   "source": []
  }
 ],
 "metadata": {
  "kernelspec": {
   "display_name": "tfod",
   "language": "python",
   "name": "tfod"
  },
  "language_info": {
   "codemirror_mode": {
    "name": "ipython",
    "version": 3
   },
   "file_extension": ".py",
   "mimetype": "text/x-python",
   "name": "python",
   "nbconvert_exporter": "python",
   "pygments_lexer": "ipython3",
   "version": "3.8.10"
  }
 },
 "nbformat": 4,
 "nbformat_minor": 2
}
